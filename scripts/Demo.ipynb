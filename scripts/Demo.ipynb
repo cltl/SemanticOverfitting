{
 "cells": [
  {
   "cell_type": "code",
   "execution_count": 1,
   "metadata": {
    "collapsed": true
   },
   "outputs": [],
   "source": [
    "from analysis import Analysis"
   ]
  },
  {
   "cell_type": "markdown",
   "metadata": {},
   "source": [
    "# Metric-based datasets analysis\n"
   ]
  },
  {
   "cell_type": "markdown",
   "metadata": {},
   "source": [
    "## available corpora\n",
    "We've converted corpora from different disambiguation tasks into the same format (tab separated):\n",
    "* **identifier**: instance identifier\n",
    "* **lexical expression**: depending on the task, this can be a lemma, entity mention, event mention, or predicate\n",
    "* **meaning**: sense for concept-based task, instance for instance-based tasks\n",
    "* **document creating time**: if available, this shows the date at which the document was created\n",
    "* **resource ambiguity**: the number of meanings that the lexical expression can refer to according to a resource (for example WordNet)\n",
    "* **resource variance**: the maximum of lexical expressions that can express the meaning according to a resource (for example WordNet)\n",
    "\n",
    "| disambiguation task  | name corpus  | link   | name file in this folder  | \n",
    "|---|---|---|---|\n",
    "| WSD  | senseval 2 all-words  | http://aclweb.org/anthology/S01-1005  |  WSD___SE2-AW |\n",
    "| WSD  | senseval 3 all-words  | http://aclweb.org/anthology/W04-0811  |  WSD___SE3-AW |\n",
    "| WSD  | semeval 2007 all-words  | http://aclweb.org/anthology/S07-1016   | WSD___SE7-AW  |\n",
    "| WSD | semeval 2010 all-words | http://www.aclweb.org/anthology/S10-1013 | WSD___SE10-AW |\n",
    "| WSD | semeval 2013 all-words | http://aclweb.org/anthology/S13-2040 | WSD___SE13-AW |\n",
    "| SRL | CoNLL-2014 shared task training | http://www.cs.upc.edu/~srlconll/st04/st04.html | SRL___CONLL2004 |\n",
    "| EL | WES2015 | http://ceur-ws.org/Vol-1581/paper4.pdf | EL____WES2015 |\n",
    "| EL | Meantime | http://www.newsreader-project.eu/results/data/wikinews/ | EL___Meantime |\n",
    "| EnC | QuizBowl | https://www.cs.umd.edu/~aguha/qbcoreference | EnC___QuizBowl |\n",
    "| EvC | Ecb | http://aclweb.org/anthology/P10-1143 | EvC___Ecb |\n",
    "| EvC | Ecb+ | http://www.lrec-conf.org/proceedings/lrec2014/pdf/840_Paper.pdf | EvC__Ecb+ |\n",
    "\n",
    "The following two datasets were analyzed, but were not included due to licensing restrictions:\n",
    "\n",
    "| disambiguation task  | name corpus  | link   | name file in this folder  | \n",
    "|---|---|---|---|\n",
    "| EL | AIDA | http://www.mpi-inf.mpg.de/departments/databases-and-information-systems/research/yago-naga/aida/ | NA |\n",
    "| EvC | TAC KBP '2015 EN Task 3 | https://tac.nist.gov/2015/KBP/Event/index.html | NA |"
   ]
  },
  {
   "cell_type": "code",
   "execution_count": 2,
   "metadata": {
    "collapsed": true
   },
   "outputs": [],
   "source": [
    "all_datasets = ['EL___WES2015', 'EL___Meantime', # Entity Linking\n",
    "                'EnC___quizbowl',  # Entity Coreference\n",
    "                'EvC___ecb', 'EvC___ecb+', # Event Coreference\n",
    "                'SRL___CONLL2004', # Semantic Role Labelling\n",
    "                'WSD___SE10-AW', 'WSD___SE13-AW', 'WSD___SE2-AW', 'WSD___SE3-AW', 'WSD___SE7-AW'] # Word Sense Disambiguation"
   ]
  },
  {
   "cell_type": "markdown",
   "metadata": {},
   "source": [
    "## available metrics\n",
    "The file 'metrics.py' in this folder contains the metrics we used to analyze each corpus. We encourage you to inspect those functions! We also prepare a class that computes these metrics for each task. An example can be found below:"
   ]
  },
  {
   "cell_type": "code",
   "execution_count": 6,
   "metadata": {
    "collapsed": false
   },
   "outputs": [
    {
     "name": "stdout",
     "output_type": "stream",
     "text": [
      "moa 1.03\n",
      "moda 0.99\n",
      "emnle 0.99\n",
      "rora 0.0\n",
      "mov 1.38\n",
      "modv 0.91\n",
      "elenm 0.19\n",
      "rorv 0.0\n",
      "dtr [datetime.datetime(2012, 4, 30, 0, 0), datetime.datetime(2015, 3, 30, 0, 0)]\n"
     ]
    }
   ],
   "source": [
    "# example analysis\n",
    "instance = Analysis('EL___WES2015')\n",
    "for attribute in ('moa', 'moda', 'emnle', 'rora',\n",
    "                 'mov', 'modv', 'elenm', 'rorv'):\n",
    "            print(attribute, round(getattr(instance, attribute), 2))\n",
    "\n",
    "# The dtr value is only available for the Entity Linking datasets.\n",
    "print('dtr', getattr(instance, 'dtr'))"
   ]
  },
  {
   "cell_type": "markdown",
   "metadata": {},
   "source": [
    "## ATRFU\n",
    "In order to compute ATR(FU), we refer to the notebook at 'atrfu/Atrfu demo.ipynb'."
   ]
  },
  {
   "cell_type": "code",
   "execution_count": null,
   "metadata": {
    "collapsed": true
   },
   "outputs": [],
   "source": []
  }
 ],
 "metadata": {
  "anaconda-cloud": {},
  "kernelspec": {
   "display_name": "Python [conda root]",
   "language": "python",
   "name": "conda-root-py"
  },
  "language_info": {
   "codemirror_mode": {
    "name": "ipython",
    "version": 3
   },
   "file_extension": ".py",
   "mimetype": "text/x-python",
   "name": "python",
   "nbconvert_exporter": "python",
   "pygments_lexer": "ipython3",
   "version": "3.5.2"
  }
 },
 "nbformat": 4,
 "nbformat_minor": 0
}
